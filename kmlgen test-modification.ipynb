{
 "cells": [
  {
   "cell_type": "code",
   "execution_count": 55,
   "metadata": {},
   "outputs": [],
   "source": [
    "# 导入模块xml.etree中的ElementTree类，并取名为etree\n",
    "from xml.etree import ElementTree as etree"
   ]
  },
  {
   "cell_type": "code",
   "execution_count": 56,
   "metadata": {},
   "outputs": [],
   "source": [
    "from xml.etree.ElementTree import Element, SubElement, ElementTree"
   ]
  },
  {
   "cell_type": "code",
   "execution_count": 57,
   "metadata": {},
   "outputs": [],
   "source": [
    "import pandas as pd"
   ]
  },
  {
   "cell_type": "code",
   "execution_count": 58,
   "metadata": {},
   "outputs": [],
   "source": [
    "data=pd.read_csv(r'./test2.csv')"
   ]
  },
  {
   "cell_type": "code",
   "execution_count": 59,
   "metadata": {},
   "outputs": [
    {
     "data": {
      "text/plain": [
       "9"
      ]
     },
     "execution_count": 59,
     "metadata": {},
     "output_type": "execute_result"
    }
   ],
   "source": [
    "len(data)"
   ]
  },
  {
   "cell_type": "code",
   "execution_count": 60,
   "metadata": {},
   "outputs": [],
   "source": [
    "# 生成根节点\n",
    "kml = Element('kml')\n",
    "for _ in range(len(data)):\n",
    "    # 生成第一个子节点 document\n",
    "    document = SubElement(kml, 'Document')\n",
    "\n",
    "    # document 节点的子节点name\n",
    "    placemark = SubElement(document, 'Placemark')\n",
    "\n",
    "    name = SubElement(placemark,'name')\n",
    "    name.text = '栅格'\n",
    "    description = SubElement(placemark,'description')\n",
    "    #description.text = 'RSRP:-75'\n",
    "\n",
    "    #样式\n",
    "    style = SubElement(placemark,'Style')\n",
    "\n",
    "    polyStyle = SubElement(style,'PolyStyle')\n",
    "\n",
    "    color = SubElement(polyStyle,'color')\n",
    "    #color.text = 'ff00d500'\n",
    "\n",
    "    outline = SubElement(polyStyle,'outline')\n",
    "    outline.text = '0'\n",
    "\n",
    "    #编辑属性Polygon\n",
    "    polygon = SubElement(placemark,'Polygon')\n",
    "\n",
    "    extrude = SubElement(polygon,'extrude')\n",
    "    extrude.text = '1'\n",
    "\n",
    "    altitudeMode = SubElement(polygon,'altitudeMode')\n",
    "    altitudeMode.text = 'relativeToGround'\n",
    "\n",
    "    outerBoundaryIs = SubElement(polygon,'outerBoundaryIs')\n",
    "    linearRing = SubElement(outerBoundaryIs,'LinearRing')\n",
    "    coordinates = SubElement(linearRing,'coordinates')\n",
    "    #coordinates.text = '108.4702,22.91364,2.0 108.4702,22.91382,2.0 108.4704,22.91382,2.0 108.4704,22.91364,2.0'\n",
    "tree = ElementTree(kml)"
   ]
  },
  {
   "cell_type": "code",
   "execution_count": 61,
   "metadata": {},
   "outputs": [],
   "source": [
    "# elemnt为传进来的Elment类，参数indent用于缩进，newline用于换行   \n",
    "def prettyXml(element, indent, newline, level = 0): \n",
    "    # 判断element是否有子元素\n",
    "    if element:\n",
    "        # 如果element的text没有内容      \n",
    "        if element.text == None or element.text.isspace():     \n",
    "            element.text = newline + indent * (level + 1)      \n",
    "        else:    \n",
    "            element.text = newline + indent * (level + 1) + element.text.strip() + newline + indent * (level + 1)    \n",
    "    # 此处两行如果把注释去掉，Element的text也会另起一行 \n",
    "    #else:     \n",
    "        #element.text = newline + indent * (level + 1) + element.text.strip() + newline + indent * level    \n",
    "    temp = list(element) # 将elemnt转成list    \n",
    "    for subelement in temp:    \n",
    "        # 如果不是list的最后一个元素，说明下一个行是同级别元素的起始，缩进应一致\n",
    "        if temp.index(subelement) < (len(temp) - 1):     \n",
    "            subelement.tail = newline + indent * (level + 1)    \n",
    "        else:  # 如果是list的最后一个元素， 说明下一行是母元素的结束，缩进应该少一个    \n",
    "            subelement.tail = newline + indent * level   \n",
    "        # 对子元素进行递归操作 \n",
    "        prettyXml(subelement, indent, newline, level = level + 1)     "
   ]
  },
  {
   "cell_type": "code",
   "execution_count": 65,
   "metadata": {},
   "outputs": [],
   "source": [
    "from xml.etree import ElementTree      #导入ElementTree模块   \n",
    "\n",
    "doc = tree.findall(\"Document\")\n",
    "for i in range(data.shape[0]):\n",
    "    #print(i)\n",
    "    tmp = doc[i]\n",
    "    tmp.find('Placemark').find('description').text = 'RSRP:'+str(data.loc[i,'RSRPValue']) \n",
    "    #description.text = 'RSRP:'+str(data.loc[i,'RSRPValue']) \n",
    "    if data.loc[i,'RSRPValue']<-90:\n",
    "        #color.text = 'ffFF1493'\n",
    "        tmp.find('Placemark').find('Style').find('PolyStyle').find('color').text = 'ffFF1493'\n",
    "    else:\n",
    "        #color.text = 'ff00d500'\n",
    "        tmp.find('Placemark').find('Style').find('PolyStyle').find('color').text = 'ff00d500'\n",
    "    tmp.find('Placemark').find('Polygon').find('outerBoundaryIs').find('LinearRing').find('coordinates').text = str(data.loc[i,'TLLongitude']/10000000)+','+str(data.loc[i,'TLLatitude']/10000000)+','+str(2.0)+ ' '+str(data.loc[i,'TLLongitude']/10000000)+','+str(data.loc[i,'BRLatitude']/10000000)+','+str(2.0)+' '+str(data.loc[i,'BRLongitude']/10000000)+','+str(data.loc[i,'BRLatitude']/10000000)+','+str(2.0)+' '+str(data.loc[i,'BRLongitude']/10000000)+','+str(data.loc[i,'TLLatitude']/10000000)+','+str(2.0)\n",
    "    \n",
    "    \n",
    "#检验是否可以采用data里面的数据给树的子节点赋值\n",
    "#description.text ='RSRP:'+str(data.loc[3,'RSRPValue'])\n",
    "#if data.loc[3,'RSRPValue']<-90:\n",
    "    #color.text = 'ffFF1493'\n",
    "#else:\n",
    "   # color.text = 'ff00d500'\n",
    "#coordinates.text = '108.4702,22.91364,2.0 108.4702,22.91382,2.0 108.4704,22.91382,2.0 108.4704,22.91364,2.0'   \n",
    "    \n",
    "    tree.write('resulttest.xml', encoding = 'utf-8')\n",
    "\n",
    "\n",
    "    #tree = ElementTree.parse('result.xml')   #解析test.xml这个文件，该文件内容如上文    \n",
    "    root = tree.getroot()                  #得到根元素，Element类    \n",
    "    prettyXml(root, '\\t', '\\n')            #执行美化方法    \n",
    "\n",
    "    #ElementTree.dump(root)                 #显示出美化后的XML内容  \n",
    "\n",
    "    tree.write('maptest.kml', encoding = 'utf-8')"
   ]
  },
  {
   "cell_type": "code",
   "execution_count": null,
   "metadata": {},
   "outputs": [],
   "source": []
  }
 ],
 "metadata": {
  "kernelspec": {
   "display_name": "Python 3",
   "language": "python",
   "name": "python3"
  },
  "language_info": {
   "codemirror_mode": {
    "name": "ipython",
    "version": 3
   },
   "file_extension": ".py",
   "mimetype": "text/x-python",
   "name": "python",
   "nbconvert_exporter": "python",
   "pygments_lexer": "ipython3",
   "version": "3.6.7"
  }
 },
 "nbformat": 4,
 "nbformat_minor": 2
}
